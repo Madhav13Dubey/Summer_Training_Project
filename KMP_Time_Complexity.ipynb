{
 "cells": [
  {
   "cell_type": "code",
   "execution_count": 2,
   "id": "d9215f23-18fe-4577-bad7-289e702290a9",
   "metadata": {},
   "outputs": [
    {
     "name": "stdout",
     "output_type": "stream",
     "text": [
      "KMP Algorithm:\n",
      "Pattern: \"brother\"\n",
      "Found: True\n",
      "Elapsed time: 0.000116 seconds (0.116 ms)\n"
     ]
    }
   ],
   "source": [
    "import time\n",
    "\n",
    "# KMP Algorithm Implementation\n",
    "def build_lps(pattern):\n",
    "    \"\"\" Preprocess pattern to create the longest proper prefix-suffix (LPS) array \"\"\"\n",
    "    m = len(pattern)\n",
    "    lps = [0] * m\n",
    "    length = 0  # length of previous longest prefix suffix\n",
    "    i = 1\n",
    "\n",
    "    while i < m:\n",
    "        if pattern[i] == pattern[length]:\n",
    "            length += 1\n",
    "            lps[i] = length\n",
    "            i += 1\n",
    "        else:\n",
    "            if length != 0:\n",
    "                length = lps[length - 1]\n",
    "            else:\n",
    "                lps[i] = 0\n",
    "                i += 1\n",
    "    return lps\n",
    "\n",
    "\n",
    "def kmp_search(text, pattern):\n",
    "    \"\"\" KMP Search algorithm \"\"\"\n",
    "    n = len(text)\n",
    "    m = len(pattern)\n",
    "    lps = build_lps(pattern)\n",
    "\n",
    "    i = 0  # index for text\n",
    "    j = 0  # index for pattern\n",
    "\n",
    "    while i < n:\n",
    "        if text[i] == pattern[j]:\n",
    "            i += 1\n",
    "            j += 1\n",
    "\n",
    "        if j == m:\n",
    "            return True  # found\n",
    "        elif i < n and text[i] != pattern[j]:\n",
    "            if j != 0:\n",
    "                j = lps[j - 1]\n",
    "            else:\n",
    "                i += 1\n",
    "    return False\n",
    "\n",
    "\n",
    "# Test data (large text for benchmarking)\n",
    "text = \"This is a sample text with some vulnerable words like brother and sister appearing multiple times. \" * 1000\n",
    "pattern = \"brother\"\n",
    "\n",
    "# Measure KMP\n",
    "start_kmp = time.time()\n",
    "found_kmp = kmp_search(text, pattern)\n",
    "end_kmp = time.time()\n",
    "elapsed_kmp = end_kmp - start_kmp\n",
    "\n",
    "print(\"KMP Algorithm:\")\n",
    "print(f\"Pattern: \\\"{pattern}\\\"\")\n",
    "print(f\"Found: {found_kmp}\")\n",
    "print(f\"Elapsed time: {elapsed_kmp:.6f} seconds ({elapsed_kmp*1000:.3f} ms)\")\n"
   ]
  },
  {
   "cell_type": "code",
   "execution_count": null,
   "id": "d5b7727d-cd2a-4bca-9674-f31b36e2e7b3",
   "metadata": {},
   "outputs": [],
   "source": []
  },
  {
   "cell_type": "code",
   "execution_count": null,
   "id": "0575187d-534c-4e6c-888e-228b43f89bcd",
   "metadata": {},
   "outputs": [],
   "source": []
  }
 ],
 "metadata": {
  "kernelspec": {
   "display_name": "Python 3 (ipykernel)",
   "language": "python",
   "name": "python3"
  },
  "language_info": {
   "codemirror_mode": {
    "name": "ipython",
    "version": 3
   },
   "file_extension": ".py",
   "mimetype": "text/x-python",
   "name": "python",
   "nbconvert_exporter": "python",
   "pygments_lexer": "ipython3",
   "version": "3.13.0"
  }
 },
 "nbformat": 4,
 "nbformat_minor": 5
}
